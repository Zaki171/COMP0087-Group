{
 "cells": [
  {
   "cell_type": "markdown",
   "metadata": {},
   "source": [
    "# Instruction Tuning on Datasets"
   ]
  },
  {
   "cell_type": "code",
   "execution_count": 1,
   "metadata": {},
   "outputs": [
    {
     "name": "stderr",
     "output_type": "stream",
     "text": [
      "c:\\Users\\zakit\\Documents\\COMP0087 CW\\COMP0087-Group\\venv\\Lib\\site-packages\\tqdm\\auto.py:21: TqdmWarning: IProgress not found. Please update jupyter and ipywidgets. See https://ipywidgets.readthedocs.io/en/stable/user_install.html\n",
      "  from .autonotebook import tqdm as notebook_tqdm\n"
     ]
    },
    {
     "name": "stdout",
     "output_type": "stream",
     "text": [
      "WARNING:tensorflow:From c:\\Users\\zakit\\Documents\\COMP0087 CW\\COMP0087-Group\\venv\\Lib\\site-packages\\keras\\src\\losses.py:2976: The name tf.losses.sparse_softmax_cross_entropy is deprecated. Please use tf.compat.v1.losses.sparse_softmax_cross_entropy instead.\n",
      "\n",
      "Device being used: cuda\n"
     ]
    }
   ],
   "source": [
    "from datasets import Dataset, DatasetDict, load_dataset, load_from_disk, load_metric\n",
    "from transformers import GPT2LMHeadModel, GPT2Tokenizer, Trainer, TrainingArguments\n",
    "from encodeinstruction import encodeinstruction\n",
    "from trl import SFTTrainer, DataCollatorForCompletionOnlyLM\n",
    "import json\n",
    "import bert_score\n",
    "import nltk\n",
    "from nltk.translate.bleu_score import sentence_bleu\n",
    "import evaluate\n",
    "from nltk.translate.bleu_score import corpus_bleu\n",
    "import torch\n",
    "\n",
    "device = torch.device('cuda' if torch.cuda.is_available() else 'cpu')\n",
    "print(\"Device being used:\", device)\n"
   ]
  },
  {
   "cell_type": "code",
   "execution_count": 2,
   "metadata": {},
   "outputs": [],
   "source": [
    "model_it =  GPT2LMHeadModel.from_pretrained( \"new_test/trained_model\").to(device)\n",
    "tokenizer_it = GPT2Tokenizer.from_pretrained(\"new_test/tokenizer\")"
   ]
  },
  {
   "cell_type": "markdown",
   "metadata": {},
   "source": [
    "### Test on Natural Instructions Data"
   ]
  },
  {
   "cell_type": "code",
   "execution_count": null,
   "metadata": {},
   "outputs": [],
   "source": [
    "\n",
    "# def evaluate_example(example, model, tokenizer):\n",
    "#     prompt = f\"### Question: {example['input']} \\n ### Options: {example['options']} \\n ###Targets: \"\n",
    "#     tokenized_prompt = tokenizer(prompt, return_tensors='pt').to(device)\n",
    "#     # print(prompt)\n",
    "#     outputs =model.generate(**tokenized_prompt, pad_token_id=tokenizer.eos_token_id, max_length=1024)\n",
    "#     decoded_output = tokenizer.decode(outputs[0][len(tokenized_prompt['input_ids'][0]):], skip_special_tokens=True)\n",
    "#     # print(\"prediction: \",decoded_output)\n",
    "#     return decoded_output\n",
    "\n",
    "# def evaluate_dataset(dataset, model1, model2, tok1, tok2, ngram=1):\n",
    "#     preds1 = []\n",
    "#     preds2 = []\n",
    "#     reals = []\n",
    "#     for example in dataset:\n",
    "#         pred1 = evaluate_example(example, model1, tok1)\n",
    "#         pred2 = evaluate_example(example, model2, tok2)\n",
    "#         correct_idx = int(example['gold_index'])\n",
    "#         real = example['options'][correct_idx]\n",
    "#         preds2.append(pred2)\n",
    "#         # print(\"plain ans: \",pred_plain)\n",
    "#         # print(\"real ans: \", real)\n",
    "#         # print(\"it ans:\", pred_it)\n",
    "#         preds1.append(pred1)\n",
    "#         reals.append(real)\n",
    "\n",
    "#     P, R, F1 = bert_score.score(preds1, reals, lang=\"en\")\n",
    "#     average_F1 = sum(F1) / len(F1)\n",
    "#     print(\"Average F1 score for model1:\", average_F1)\n",
    "\n",
    "#     P, R, F1 = bert_score.score(preds2, reals, lang=\"en\")\n",
    "#     average_F1 = sum(F1) / len(F1)\n",
    "#     print(\"Average F1 score for model2:\", average_F1)\n",
    "\n",
    "#     bleu = evaluate.load('bleu')\n",
    "#     bleu1 = bleu.compute(predictions=preds1, references=reals, max_order=ngram)\n",
    "#     bleu2 = bleu.compute(predictions=preds2, references=reals, max_order=ngram)\n",
    "\n",
    "#     print(\"Model1 BLEU: \", bleu1)\n",
    "#     print(\"Model2 BLEU: \", bleu2)\n",
    "\n",
    "\n",
    "# # def calculate_bleu(preds, reals):\n",
    "# #     # Convert predictions and references into lists of lists of tokens\n",
    "# #     preds_tokens = [pred.split() for pred in preds]\n",
    "# #     reals_tokens = [[real.split()] for real in reals]\n",
    "    \n",
    "# #     # Calculate BLEU score\n",
    "# #     bleu_score = corpus_bleu(reals_tokens, preds_tokens)\n",
    "# #     return bleu_score\n",
    "\n",
    "# # # Calculate BLEU score for non-IT model\n",
    "# # bleu_score_plain = calculate_bleu(preds_plain, reals)\n",
    "# # print(\"BLEU score for non-IT model:\", bleu_score_plain)\n",
    "\n",
    "# # # Calculate BLEU score for IT model\n",
    "# # bleu_score_it = calculate_bleu(preds_it, reals)\n",
    "# # print(\"BLEU score for IT model:\", bleu_score_it)\n",
    "\n",
    "# model_plain =  GPT2LMHeadModel.from_pretrained( \"gpt2\").to(device)\n",
    "# tokenizer_plain = GPT2Tokenizer.from_pretrained(\"gpt2\")\n",
    "\n",
    "# model_it =  GPT2LMHeadModel.from_pretrained( \"old_test/trained_model\").to(device)\n",
    "# tokenizer_it = GPT2Tokenizer.from_pretrained(\"old_test/tokenizer\")\n",
    "\n",
    "# mcq_dataset = load_dataset(\"AdaptLLM/medicine-tasks\", 'MQP')['test'].select(range(50))\n",
    "# evaluate_dataset(mcq_dataset, model_plain, model_it, tokenizer_plain, tokenizer_it)\n",
    "\n",
    "\n"
   ]
  },
  {
   "cell_type": "markdown",
   "metadata": {},
   "source": [
    "### Test on Medical QA Dataset"
   ]
  },
  {
   "cell_type": "code",
   "execution_count": 14,
   "metadata": {},
   "outputs": [
    {
     "name": "stderr",
     "output_type": "stream",
     "text": [
      "Some weights of RobertaModel were not initialized from the model checkpoint at roberta-large and are newly initialized: ['roberta.pooler.dense.bias', 'roberta.pooler.dense.weight']\n",
      "You should probably TRAIN this model on a down-stream task to be able to use it for predictions and inference.\n"
     ]
    },
    {
     "name": "stdout",
     "output_type": "stream",
     "text": [
      "Average F1 score for model1: tensor(0.8460)\n",
      "Model1 BLEU:  {'bleu': 0.002026244527971437, 'precisions': [0.22805296714075526], 'brevity_penalty': 0.008884973317276904, 'length_ratio': 0.17472150814053128, 'translation_length': 2039, 'reference_length': 11670}\n"
     ]
    }
   ],
   "source": [
    "import pandas as pd\n",
    "\n",
    "def evaluate_example(example, model, tokenizer):\n",
    "    prompt = f\"### Task: {example['instruction']}\\n ### Question: {example['input']} \\n ###Targets:\"\n",
    "    tokenized_prompt = tokenizer(prompt, return_tensors='pt').to(device)\n",
    "    # print(prompt)\n",
    "    outputs =model.generate(**tokenized_prompt, pad_token_id=tokenizer.eos_token_id, max_length=1024)\n",
    "    decoded_output = tokenizer.decode(outputs[0][len(tokenized_prompt['input_ids'][0]):], skip_special_tokens=True)\n",
    "    # print(\"prediction: \",decoded_output)\n",
    "    return decoded_output\n",
    "\n",
    "def evaluate_dataset(dataset, model, tok, ngram=1):\n",
    "    preds1 = []\n",
    "    reals = []\n",
    "    results_data = []\n",
    "    correct_ans = 0\n",
    "    for example in dataset:\n",
    "        pred1 = evaluate_example(example, model, tok)\n",
    "        real = example['output']\n",
    "        preds1.append(pred1)\n",
    "        reals.append(real)\n",
    "        real_letter = real.replace(\" \", \"\")[0]\n",
    "        pred_letter = pred1.replace(\" \", \"\")[0]\n",
    "        if real_letter == pred_letter:\n",
    "            correct_ans+=1\n",
    "\n",
    "\n",
    "    acc = correct_ans/len(preds1)\n",
    "    P, R, F1 = bert_score.score(preds1, reals, lang=\"en\")\n",
    "    average_F1 = sum(F1) / len(F1)\n",
    "    print(\"Average F1 score for model1:\", average_F1)\n",
    "    bleu = evaluate.load('bleu')\n",
    "    bleu1 = bleu.compute(predictions=preds1, references=reals, max_order=ngram)\n",
    "    print(\"Model1 BLEU: \", bleu1)\n",
    "    results_data.append({'bert_score' : float(average_F1), 'bleu_score' : bleu1['bleu'], 'accuracy': acc})\n",
    "    results_df = pd.DataFrame(results_data)\n",
    "    results_df.to_csv('it_results/it_results_medqa.csv', index=False)\n",
    "\n",
    "\n",
    "\n",
    "data = load_dataset('medalpaca/medical_meadow_medqa')['train']\n",
    "train_test_split = data.train_test_split(test_size=0.2, seed=42)\n",
    "train_dataset = train_test_split['train']\n",
    "test_dataset = train_test_split['test']\n",
    "evaluate_dataset(test_dataset, model_it, tokenizer_it)\n",
    "\n"
   ]
  },
  {
   "cell_type": "markdown",
   "metadata": {},
   "source": [
    "### Test on Medical MQP Dataset"
   ]
  },
  {
   "cell_type": "code",
   "execution_count": null,
   "metadata": {},
   "outputs": [],
   "source": [
    "\n",
    "import pandas as pd\n",
    "\n",
    "def evaluate_example(example, model, tokenizer):\n",
    "    prompt = f\"### Question: {example['input']} \\n ### Options: {example['options']} \\n ###Targets: \"\n",
    "    tokenized_prompt = tokenizer(prompt, return_tensors='pt').to(device)\n",
    "    # print(prompt)\n",
    "    outputs =model.generate(**tokenized_prompt, pad_token_id=tokenizer.eos_token_id, max_length=1024)\n",
    "    decoded_output = tokenizer.decode(outputs[0][len(tokenized_prompt['input_ids'][0]):], skip_special_tokens=True)\n",
    "    # print(\"prediction: \",decoded_output)\n",
    "    return decoded_output\n",
    "\n",
    "def evaluate_dataset(dataset, model, tok, ngram=1):\n",
    "    preds1 = []\n",
    "    reals = []\n",
    "    results_data = []\n",
    "    for example in dataset:\n",
    "        pred1 = evaluate_example(example, model, tok)\n",
    "        correct_idx = int(example['gold_index'])\n",
    "        real = example['options'][correct_idx]\n",
    "        preds1.append(pred1)\n",
    "        reals.append(real)\n",
    "\n",
    "    P, R, F1 = bert_score.score(preds1, reals, lang=\"en\")\n",
    "    average_F1 = sum(F1) / len(F1)\n",
    "    print(\"Average F1 score for model1:\", average_F1)\n",
    "    bleu = evaluate.load('bleu')\n",
    "    bleu1 = bleu.compute(predictions=preds1, references=reals, max_order=ngram)\n",
    "    print(\"Model1 BLEU: \", bleu1)\n",
    "    results_data.append({'bert_score' : float(average_F1), 'bleu_score' : bleu1['bleu']})\n",
    "    results_df = pd.DataFrame(results_data)\n",
    "    results_df.to_csv('it_results/it_results_medqa.csv', index=False)\n",
    "\n",
    "\n",
    "\n",
    "mcq_dataset = load_dataset(\"AdaptLLM/medicine-tasks\", 'MQP')['test'].select(range(50))\n",
    "evaluate_dataset(mcq_dataset, model_plain, model_it, tokenizer_plain, tokenizer_it)\n",
    "\n",
    "\n"
   ]
  }
 ],
 "metadata": {
  "kernelspec": {
   "display_name": "venv",
   "language": "python",
   "name": "python3"
  },
  "language_info": {
   "codemirror_mode": {
    "name": "ipython",
    "version": 3
   },
   "file_extension": ".py",
   "mimetype": "text/x-python",
   "name": "python",
   "nbconvert_exporter": "python",
   "pygments_lexer": "ipython3",
   "version": "3.11.4"
  }
 },
 "nbformat": 4,
 "nbformat_minor": 2
}
